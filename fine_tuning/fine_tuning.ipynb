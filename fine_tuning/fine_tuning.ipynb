{
  "cells": [
    {
      "cell_type": "code",
      "execution_count": 1,
      "metadata": {
        "id": "o7Qa8Ih2hsxx"
      },
      "outputs": [],
      "source": [
        "%%capture\n",
        "!pip install sentence-transformers tqdm datasets"
      ]
    },
    {
      "cell_type": "code",
      "execution_count": 2,
      "metadata": {
        "colab": {
          "base_uri": "https://localhost:8080/"
        },
        "id": "B_wOvysOiBxU",
        "outputId": "2e93d0ff-4857-4cc6-a91b-ba52abd63405"
      },
      "outputs": [
        {
          "output_type": "stream",
          "name": "stderr",
          "text": [
            "/usr/local/lib/python3.10/dist-packages/sentence_transformers/cross_encoder/CrossEncoder.py:11: TqdmExperimentalWarning: Using `tqdm.autonotebook.tqdm` in notebook mode. Use `tqdm.tqdm` instead to force console mode (e.g. in jupyter console)\n",
            "  from tqdm.autonotebook import tqdm, trange\n"
          ]
        },
        {
          "output_type": "stream",
          "name": "stdout",
          "text": [
            "Drive already mounted at /content/drive; to attempt to forcibly remount, call drive.mount(\"/content/drive\", force_remount=True).\n",
            "Using device: cuda\n"
          ]
        }
      ],
      "source": [
        "import pandas as pd\n",
        "import numpy as np\n",
        "from sklearn.model_selection import train_test_split\n",
        "from sentence_transformers import SentenceTransformer, InputExample, losses\n",
        "from torch.utils.data import DataLoader\n",
        "from scipy.stats import spearmanr\n",
        "import os\n",
        "from tqdm import tqdm\n",
        "from datasets import Dataset\n",
        "from sklearn.metrics import mean_squared_error\n",
        "import torch\n",
        "from google.colab import drive\n",
        "\n",
        "drive.mount('/content/drive')\n",
        "device = torch.device(\"cuda\" if torch.cuda.is_available() else \"cpu\")\n",
        "print(f\"Using device: {device}\")\n"
      ]
    },
    {
      "cell_type": "code",
      "execution_count": 3,
      "metadata": {
        "id": "TTWWZ1YUkx5p"
      },
      "outputs": [],
      "source": [
        "data_file = '/content/drive/MyDrive/embeddings/responses.csv'\n",
        "model_name = 'all-MiniLM-L6-v2'\n",
        "epochs = 3\n",
        "batch_size = 16\n",
        "output_dir = '/content/drive/MyDrive/embeddings/fine_tuned_model'\n"
      ]
    },
    {
      "cell_type": "code",
      "execution_count": 4,
      "metadata": {
        "id": "ojDi1QxXipuF"
      },
      "outputs": [],
      "source": [
        "def load_and_preprocess_data(file_path):\n",
        "    df = pd.read_csv(file_path)\n",
        "    if 'Unnamed: 0' in df.columns:\n",
        "        df.rename(columns={'Unnamed: 0': 'question'}, inplace=True)\n",
        "        df.to_csv(file_path, index=False)\n",
        "    return df\n",
        "\n",
        "def prepare_training_data(df):\n",
        "    return [\n",
        "        InputExample(texts=[str(row['question']).lower().strip(),\n",
        "                            str(row[f'source{i}']).lower().strip()],\n",
        "                     label=float(row[f'relevance{i}']) / 4.0)\n",
        "        for _, row in df.iterrows()\n",
        "        for i in range(1, 6)\n",
        "        if not pd.isna(row[f'relevance{i}']) and row[f'relevance{i}'] != -1\n",
        "    ]\n",
        "\n",
        "def fine_tune_model(training_examples, model_name='all-MiniLM-L6-v2', epochs=3, batch_size=16):\n",
        "    model = SentenceTransformer(model_name)\n",
        "    model = model.to(device)\n",
        "    train_dataloader = DataLoader(training_examples, shuffle=True, batch_size=batch_size)\n",
        "    train_loss = losses.CosineSimilarityLoss(model)\n",
        "    model.fit(train_objectives=[(train_dataloader, train_loss)], epochs=epochs, warmup_steps=100, show_progress_bar=True)\n",
        "    return model\n",
        "\n",
        "def evaluate_model(model, test_examples):\n",
        "    true_scores, pred_scores = [], []\n",
        "    for example in tqdm(test_examples):\n",
        "        true_score = example.label\n",
        "        embeddings = model.encode(example.texts, device=device)\n",
        "        pred_score = np.dot(embeddings[0], embeddings[1]) / (np.linalg.norm(embeddings[0]) * np.linalg.norm(embeddings[1]))\n",
        "        true_scores.append(true_score)\n",
        "        pred_scores.append(pred_score)\n",
        "\n",
        "    true_scores, pred_scores = np.array(true_scores), np.array(pred_scores)\n",
        "    correlation, p_value = spearmanr(true_scores, pred_scores)\n",
        "    mse = mean_squared_error(true_scores, pred_scores)\n",
        "    return correlation, mse, true_scores, pred_scores\n"
      ]
    },
    {
      "cell_type": "code",
      "execution_count": 5,
      "metadata": {
        "id": "12A7h9oMi47W"
      },
      "outputs": [],
      "source": [
        "df = load_and_preprocess_data(data_file)\n",
        "training_examples = prepare_training_data(df)\n",
        "train_examples, test_examples = train_test_split(training_examples, test_size=0.2, random_state=42)"
      ]
    },
    {
      "cell_type": "code",
      "execution_count": 6,
      "metadata": {
        "colab": {
          "base_uri": "https://localhost:8080/",
          "height": 76,
          "referenced_widgets": [
            "4eae9e4d8d0242f99232fc8a753c6aee",
            "7770821cc3544f08a88018cddf2354fb",
            "7121f584bf2c419c96346da93cedfc23",
            "a8d2a64c3a0e4174a00cf400e0cae7c3",
            "dcb313a5da844191a510ae59b38b4eec",
            "cbfc901349fe481f9ec14d1b54e9c8ab",
            "2dfe2d903b8e49779031da8e7f23f359",
            "162f55b042ce4702b2dbcfc3e9f11f9d",
            "8d904c7c8c7842dfacd1ee210eef8d65",
            "3c742b73757e476f8fe79fa2de6f24ef",
            "fc7d4eec5da149c78b23b5151588fd82"
          ]
        },
        "id": "AAnTyZomi658",
        "outputId": "89adc053-3d04-44b6-b002-346b2e3b6b81"
      },
      "outputs": [
        {
          "output_type": "display_data",
          "data": {
            "text/plain": [
              "<IPython.core.display.HTML object>"
            ],
            "text/html": [
              "\n",
              "    <div>\n",
              "      \n",
              "      <progress value='402' max='402' style='width:300px; height:20px; vertical-align: middle;'></progress>\n",
              "      [402/402 00:30, Epoch 3/3]\n",
              "    </div>\n",
              "    <table border=\"1\" class=\"dataframe\">\n",
              "  <thead>\n",
              " <tr style=\"text-align: left;\">\n",
              "      <th>Step</th>\n",
              "      <th>Training Loss</th>\n",
              "    </tr>\n",
              "  </thead>\n",
              "  <tbody>\n",
              "  </tbody>\n",
              "</table><p>"
            ]
          },
          "metadata": {}
        },
        {
          "output_type": "display_data",
          "data": {
            "text/plain": [
              "Computing widget examples:   0%|          | 0/1 [00:00<?, ?example/s]"
            ],
            "application/vnd.jupyter.widget-view+json": {
              "version_major": 2,
              "version_minor": 0,
              "model_id": "4eae9e4d8d0242f99232fc8a753c6aee"
            }
          },
          "metadata": {}
        }
      ],
      "source": [
        "model = fine_tune_model(train_examples, model_name=model_name, epochs=epochs, batch_size=batch_size)\n",
        "\n",
        "os.makedirs(output_dir, exist_ok=True)\n",
        "model.save(os.path.join(output_dir, 'fine_tuned_model'))\n"
      ]
    },
    {
      "cell_type": "code",
      "execution_count": 7,
      "metadata": {
        "id": "q3UJe2m-jJzv",
        "colab": {
          "base_uri": "https://localhost:8080/"
        },
        "outputId": "e9f49ae4-4174-4d2b-d2f3-3bf25f7c79ea"
      },
      "outputs": [
        {
          "output_type": "stream",
          "name": "stderr",
          "text": [
            "100%|██████████| 535/535 [00:04<00:00, 111.50it/s]\n",
            "100%|██████████| 535/535 [00:04<00:00, 107.34it/s]"
          ]
        },
        {
          "output_type": "stream",
          "name": "stdout",
          "text": [
            "Base Model - Correlation: 0.6581, MSE: 0.1224\n",
            "Fine-tuned Model - Correlation: 0.7460, MSE: 0.0829\n",
            "\n",
            "Question: when should a nurse contact the medical control physician regarding patients with cardiac arrhythmias\n",
            "Source: 1. usually found in patients with pre-existing conduction defects. may be found subcutaneously in th...\n",
            "True Score: 0.0000\n",
            "Base Model Prediction: 0.4508\n",
            "Fine-tuned Model Prediction: 0.2716\n",
            "\n",
            "Question: what is the largest species of bear\n",
            "Source: 1. any child with potential stroke including all bch ed and children from outside bch via critical c...\n",
            "True Score: 0.0000\n",
            "Base Model Prediction: -0.0177\n",
            "Fine-tuned Model Prediction: -0.0005\n",
            "\n",
            "Question: what considerations should be made for a patient undergoing postpyloric feeding tube insertion in terms of antianxiety medication comfort measures and distraction techniques\n",
            "Source: pain management plan should be discussed preoperatively with surgery, neonatology and nursing. if in...\n",
            "True Score: 0.2500\n",
            "Base Model Prediction: 0.4161\n",
            "Fine-tuned Model Prediction: 0.1529\n",
            "\n",
            "Question: what are the responsibilities of the consultant in terms of providing ongoing advice and guidance during a patients admission and when can the consultant sign off from their involvement\n",
            "Source: 1. defines the question or issue to be addressed by the consultant and provides all relevant backgro...\n",
            "True Score: 0.2500\n",
            "Base Model Prediction: 0.6929\n",
            "Fine-tuned Model Prediction: 0.3446\n",
            "\n",
            "Question: what is the date of required departmental reviewapproval for the document\n",
            "Source: hospital orientation – the focus of orientation is the mission and philosophy of the organization, h...\n",
            "True Score: 0.0000\n",
            "Base Model Prediction: 0.2631\n",
            "Fine-tuned Model Prediction: 0.0340\n"
          ]
        },
        {
          "output_type": "stream",
          "name": "stderr",
          "text": [
            "\n"
          ]
        }
      ],
      "source": [
        "base_model = SentenceTransformer(model_name)\n",
        "fine_tuned_model = SentenceTransformer(os.path.join(output_dir, 'fine_tuned_model'))\n",
        "\n",
        "base_corr, base_mse, base_true, base_pred = evaluate_model(base_model, test_examples)\n",
        "ft_corr, ft_mse, ft_true, ft_pred = evaluate_model(fine_tuned_model, test_examples)\n",
        "\n",
        "print(f\"Base Model - Correlation: {base_corr:.4f}, MSE: {base_mse:.4f}\")\n",
        "print(f\"Fine-tuned Model - Correlation: {ft_corr:.4f}, MSE: {ft_mse:.4f}\")\n",
        "\n",
        "# Cell 7: Qualitative Analysis\n",
        "for i in range(min(5, len(test_examples))):\n",
        "    example = test_examples[i]\n",
        "    print(f\"\\nQuestion: {example.texts[0]}\")\n",
        "    print(f\"Source: {example.texts[1][:100]}...\")\n",
        "    print(f\"True Score: {example.label:.4f}\")\n",
        "    print(f\"Base Model Prediction: {base_pred[i]:.4f}\")\n",
        "    print(f\"Fine-tuned Model Prediction: {ft_pred[i]:.4f}\")\n"
      ]
    },
    {
      "cell_type": "code",
      "execution_count": 7,
      "metadata": {
        "id": "UsHq_A27jKv-"
      },
      "outputs": [],
      "source": []
    }
  ],
  "metadata": {
    "colab": {
      "provenance": []
    },
    "kernelspec": {
      "display_name": "Python 3",
      "name": "python3"
    },
    "language_info": {
      "name": "python"
    },
    "widgets": {
      "application/vnd.jupyter.widget-state+json": {
        "4eae9e4d8d0242f99232fc8a753c6aee": {
          "model_module": "@jupyter-widgets/controls",
          "model_name": "HBoxModel",
          "model_module_version": "1.5.0",
          "state": {
            "_dom_classes": [],
            "_model_module": "@jupyter-widgets/controls",
            "_model_module_version": "1.5.0",
            "_model_name": "HBoxModel",
            "_view_count": null,
            "_view_module": "@jupyter-widgets/controls",
            "_view_module_version": "1.5.0",
            "_view_name": "HBoxView",
            "box_style": "",
            "children": [
              "IPY_MODEL_7770821cc3544f08a88018cddf2354fb",
              "IPY_MODEL_7121f584bf2c419c96346da93cedfc23",
              "IPY_MODEL_a8d2a64c3a0e4174a00cf400e0cae7c3"
            ],
            "layout": "IPY_MODEL_dcb313a5da844191a510ae59b38b4eec"
          }
        },
        "7770821cc3544f08a88018cddf2354fb": {
          "model_module": "@jupyter-widgets/controls",
          "model_name": "HTMLModel",
          "model_module_version": "1.5.0",
          "state": {
            "_dom_classes": [],
            "_model_module": "@jupyter-widgets/controls",
            "_model_module_version": "1.5.0",
            "_model_name": "HTMLModel",
            "_view_count": null,
            "_view_module": "@jupyter-widgets/controls",
            "_view_module_version": "1.5.0",
            "_view_name": "HTMLView",
            "description": "",
            "description_tooltip": null,
            "layout": "IPY_MODEL_cbfc901349fe481f9ec14d1b54e9c8ab",
            "placeholder": "​",
            "style": "IPY_MODEL_2dfe2d903b8e49779031da8e7f23f359",
            "value": "Computing widget examples:   0%"
          }
        },
        "7121f584bf2c419c96346da93cedfc23": {
          "model_module": "@jupyter-widgets/controls",
          "model_name": "FloatProgressModel",
          "model_module_version": "1.5.0",
          "state": {
            "_dom_classes": [],
            "_model_module": "@jupyter-widgets/controls",
            "_model_module_version": "1.5.0",
            "_model_name": "FloatProgressModel",
            "_view_count": null,
            "_view_module": "@jupyter-widgets/controls",
            "_view_module_version": "1.5.0",
            "_view_name": "ProgressView",
            "bar_style": "",
            "description": "",
            "description_tooltip": null,
            "layout": "IPY_MODEL_162f55b042ce4702b2dbcfc3e9f11f9d",
            "max": 1,
            "min": 0,
            "orientation": "horizontal",
            "style": "IPY_MODEL_8d904c7c8c7842dfacd1ee210eef8d65",
            "value": 1
          }
        },
        "a8d2a64c3a0e4174a00cf400e0cae7c3": {
          "model_module": "@jupyter-widgets/controls",
          "model_name": "HTMLModel",
          "model_module_version": "1.5.0",
          "state": {
            "_dom_classes": [],
            "_model_module": "@jupyter-widgets/controls",
            "_model_module_version": "1.5.0",
            "_model_name": "HTMLModel",
            "_view_count": null,
            "_view_module": "@jupyter-widgets/controls",
            "_view_module_version": "1.5.0",
            "_view_name": "HTMLView",
            "description": "",
            "description_tooltip": null,
            "layout": "IPY_MODEL_3c742b73757e476f8fe79fa2de6f24ef",
            "placeholder": "​",
            "style": "IPY_MODEL_fc7d4eec5da149c78b23b5151588fd82",
            "value": " 0/1 [00:00&lt;?, ?example/s]"
          }
        },
        "dcb313a5da844191a510ae59b38b4eec": {
          "model_module": "@jupyter-widgets/base",
          "model_name": "LayoutModel",
          "model_module_version": "1.2.0",
          "state": {
            "_model_module": "@jupyter-widgets/base",
            "_model_module_version": "1.2.0",
            "_model_name": "LayoutModel",
            "_view_count": null,
            "_view_module": "@jupyter-widgets/base",
            "_view_module_version": "1.2.0",
            "_view_name": "LayoutView",
            "align_content": null,
            "align_items": null,
            "align_self": null,
            "border": null,
            "bottom": null,
            "display": null,
            "flex": null,
            "flex_flow": null,
            "grid_area": null,
            "grid_auto_columns": null,
            "grid_auto_flow": null,
            "grid_auto_rows": null,
            "grid_column": null,
            "grid_gap": null,
            "grid_row": null,
            "grid_template_areas": null,
            "grid_template_columns": null,
            "grid_template_rows": null,
            "height": null,
            "justify_content": null,
            "justify_items": null,
            "left": null,
            "margin": null,
            "max_height": null,
            "max_width": null,
            "min_height": null,
            "min_width": null,
            "object_fit": null,
            "object_position": null,
            "order": null,
            "overflow": null,
            "overflow_x": null,
            "overflow_y": null,
            "padding": null,
            "right": null,
            "top": null,
            "visibility": "hidden",
            "width": null
          }
        },
        "cbfc901349fe481f9ec14d1b54e9c8ab": {
          "model_module": "@jupyter-widgets/base",
          "model_name": "LayoutModel",
          "model_module_version": "1.2.0",
          "state": {
            "_model_module": "@jupyter-widgets/base",
            "_model_module_version": "1.2.0",
            "_model_name": "LayoutModel",
            "_view_count": null,
            "_view_module": "@jupyter-widgets/base",
            "_view_module_version": "1.2.0",
            "_view_name": "LayoutView",
            "align_content": null,
            "align_items": null,
            "align_self": null,
            "border": null,
            "bottom": null,
            "display": null,
            "flex": null,
            "flex_flow": null,
            "grid_area": null,
            "grid_auto_columns": null,
            "grid_auto_flow": null,
            "grid_auto_rows": null,
            "grid_column": null,
            "grid_gap": null,
            "grid_row": null,
            "grid_template_areas": null,
            "grid_template_columns": null,
            "grid_template_rows": null,
            "height": null,
            "justify_content": null,
            "justify_items": null,
            "left": null,
            "margin": null,
            "max_height": null,
            "max_width": null,
            "min_height": null,
            "min_width": null,
            "object_fit": null,
            "object_position": null,
            "order": null,
            "overflow": null,
            "overflow_x": null,
            "overflow_y": null,
            "padding": null,
            "right": null,
            "top": null,
            "visibility": null,
            "width": null
          }
        },
        "2dfe2d903b8e49779031da8e7f23f359": {
          "model_module": "@jupyter-widgets/controls",
          "model_name": "DescriptionStyleModel",
          "model_module_version": "1.5.0",
          "state": {
            "_model_module": "@jupyter-widgets/controls",
            "_model_module_version": "1.5.0",
            "_model_name": "DescriptionStyleModel",
            "_view_count": null,
            "_view_module": "@jupyter-widgets/base",
            "_view_module_version": "1.2.0",
            "_view_name": "StyleView",
            "description_width": ""
          }
        },
        "162f55b042ce4702b2dbcfc3e9f11f9d": {
          "model_module": "@jupyter-widgets/base",
          "model_name": "LayoutModel",
          "model_module_version": "1.2.0",
          "state": {
            "_model_module": "@jupyter-widgets/base",
            "_model_module_version": "1.2.0",
            "_model_name": "LayoutModel",
            "_view_count": null,
            "_view_module": "@jupyter-widgets/base",
            "_view_module_version": "1.2.0",
            "_view_name": "LayoutView",
            "align_content": null,
            "align_items": null,
            "align_self": null,
            "border": null,
            "bottom": null,
            "display": null,
            "flex": null,
            "flex_flow": null,
            "grid_area": null,
            "grid_auto_columns": null,
            "grid_auto_flow": null,
            "grid_auto_rows": null,
            "grid_column": null,
            "grid_gap": null,
            "grid_row": null,
            "grid_template_areas": null,
            "grid_template_columns": null,
            "grid_template_rows": null,
            "height": null,
            "justify_content": null,
            "justify_items": null,
            "left": null,
            "margin": null,
            "max_height": null,
            "max_width": null,
            "min_height": null,
            "min_width": null,
            "object_fit": null,
            "object_position": null,
            "order": null,
            "overflow": null,
            "overflow_x": null,
            "overflow_y": null,
            "padding": null,
            "right": null,
            "top": null,
            "visibility": null,
            "width": null
          }
        },
        "8d904c7c8c7842dfacd1ee210eef8d65": {
          "model_module": "@jupyter-widgets/controls",
          "model_name": "ProgressStyleModel",
          "model_module_version": "1.5.0",
          "state": {
            "_model_module": "@jupyter-widgets/controls",
            "_model_module_version": "1.5.0",
            "_model_name": "ProgressStyleModel",
            "_view_count": null,
            "_view_module": "@jupyter-widgets/base",
            "_view_module_version": "1.2.0",
            "_view_name": "StyleView",
            "bar_color": null,
            "description_width": ""
          }
        },
        "3c742b73757e476f8fe79fa2de6f24ef": {
          "model_module": "@jupyter-widgets/base",
          "model_name": "LayoutModel",
          "model_module_version": "1.2.0",
          "state": {
            "_model_module": "@jupyter-widgets/base",
            "_model_module_version": "1.2.0",
            "_model_name": "LayoutModel",
            "_view_count": null,
            "_view_module": "@jupyter-widgets/base",
            "_view_module_version": "1.2.0",
            "_view_name": "LayoutView",
            "align_content": null,
            "align_items": null,
            "align_self": null,
            "border": null,
            "bottom": null,
            "display": null,
            "flex": null,
            "flex_flow": null,
            "grid_area": null,
            "grid_auto_columns": null,
            "grid_auto_flow": null,
            "grid_auto_rows": null,
            "grid_column": null,
            "grid_gap": null,
            "grid_row": null,
            "grid_template_areas": null,
            "grid_template_columns": null,
            "grid_template_rows": null,
            "height": null,
            "justify_content": null,
            "justify_items": null,
            "left": null,
            "margin": null,
            "max_height": null,
            "max_width": null,
            "min_height": null,
            "min_width": null,
            "object_fit": null,
            "object_position": null,
            "order": null,
            "overflow": null,
            "overflow_x": null,
            "overflow_y": null,
            "padding": null,
            "right": null,
            "top": null,
            "visibility": null,
            "width": null
          }
        },
        "fc7d4eec5da149c78b23b5151588fd82": {
          "model_module": "@jupyter-widgets/controls",
          "model_name": "DescriptionStyleModel",
          "model_module_version": "1.5.0",
          "state": {
            "_model_module": "@jupyter-widgets/controls",
            "_model_module_version": "1.5.0",
            "_model_name": "DescriptionStyleModel",
            "_view_count": null,
            "_view_module": "@jupyter-widgets/base",
            "_view_module_version": "1.2.0",
            "_view_name": "StyleView",
            "description_width": ""
          }
        }
      }
    }
  },
  "nbformat": 4,
  "nbformat_minor": 0
}